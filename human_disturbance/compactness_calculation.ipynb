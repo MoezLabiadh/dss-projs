{
 "cells": [
  {
   "cell_type": "markdown",
   "id": "874ae6c1",
   "metadata": {},
   "source": [
    "This script computes compactness measures\n",
    "(https://fisherzachary.github.io/public/r-output.html)\n"
   ]
  },
  {
   "cell_type": "code",
   "execution_count": 22,
   "id": "7c84a4fa",
   "metadata": {},
   "outputs": [],
   "source": [
    "import geopandas as gpd\n",
    "import pandas as pd\n",
    "import math\n",
    "from shapely.geometry import Point\n",
    "from sklearn.preprocessing import MinMaxScaler\n",
    "from sklearn.decomposition import PCA"
   ]
  },
  {
   "cell_type": "code",
   "execution_count": null,
   "id": "ee226fbd",
   "metadata": {},
   "outputs": [],
   "source": [
    "f = r'Q:\\projects\\GeoBC\\Human Disturbance\\data\\Landclass\\NRcan_urban_cleanup\\urban_sieve_60px_4con_poly.shp'\n",
    "\n",
    "gdf = gpd.read_file(f)"
   ]
  },
  {
   "cell_type": "code",
   "execution_count": null,
   "id": "b84b3819",
   "metadata": {},
   "outputs": [],
   "source": [
    "def pp_compactness(geom):\n",
    "    \"\"\"Polsby‑Popper score.\"\"\"\n",
    "    p = geom.length\n",
    "    a = geom.area    \n",
    "    return (4 * math.pi * a) / (p * p)\n",
    "\n",
    "def s_compactness(geom):\n",
    "    \"\"\"Schwartzberg score.\"\"\"\n",
    "    p = geom.length\n",
    "    a = geom.area    \n",
    "    # circumference of circle with area a:\n",
    "    c = 2 * math.pi * math.sqrt(a / math.pi)\n",
    "    return 1 / (p / c)\n",
    "\n",
    "def ch_compactness(geom):\n",
    "    \"\"\"Convex Hull score: area district / area convex hull.\"\"\"\n",
    "    a = geom.area\n",
    "    a_ch = geom.convex_hull.area\n",
    "    return a / a_ch if a_ch > 0 else None\n",
    "\n",
    "\n",
    "def mbr_dimensions(geom):\n",
    "    \"\"\"\n",
    "    Returns (length, width) of the minimum rotated rectangle.\n",
    "    \"\"\"\n",
    "    mbr = geom.minimum_rotated_rectangle\n",
    "    coords = list(mbr.exterior.coords)\n",
    "    # compute all edge lengths\n",
    "    edges = [\n",
    "        Point(coords[i]).distance(Point(coords[i+1]))\n",
    "        for i in range(len(coords) - 1)\n",
    "    ]\n",
    "    if len(edges) < 2:\n",
    "        return None, None\n",
    "    length = max(edges)\n",
    "    width  = min(edges)\n",
    "    return length, width\n",
    "\n",
    "# expand into two columns\n",
    "gdf[['minRec_l', 'minRec_w']] = gdf.geometry.apply(\n",
    "    lambda g: pd.Series(mbr_dimensions(g))\n",
    ")\n",
    "\n",
    "\n",
    "def rect_compactness(geom):\n",
    "    \"\"\"Rectangularity: Area ÷ (Lengthₘₐₓ × Widthₘᵢₙ) of MBR\"\"\"\n",
    "    mbr = geom.minimum_rotated_rectangle\n",
    "    coords = list(mbr.exterior.coords)\n",
    "    edges = [Point(coords[i]).distance(Point(coords[i+1]))\n",
    "             for i in range(len(coords)-1)]\n",
    "    if len(edges) < 2:\n",
    "        return None\n",
    "    L, W = max(edges), min(edges)\n",
    "    return geom.area / (L * W) if L * W > 0 else None\n",
    "\n",
    "\n",
    "\n",
    "# apply to your GeoDataFrame\n",
    "gdf[\"c_pp\"]    = gdf.geometry.apply(pp_compactness)\n",
    "gdf[\"c_schw\"] = gdf.geometry.apply(s_compactness)\n",
    "gdf[\"c_ch\"]   = gdf.geometry.apply(ch_compactness)\n",
    "gdf['c_lw'] = gdf['minRec_w'] / gdf['minRec_l']\n",
    "\n",
    "gdf[\"c_rect\"]= gdf.geometry.apply(rect_compactness)\n",
    "\n",
    "\n",
    "# standardize measures to [0,1]\n",
    "metrics = gdf[[\"c_lw\", \"minRec_w\"]].fillna(0)\n",
    "scaler = MinMaxScaler()\n",
    "scaled = scaler.fit_transform(metrics)\n",
    "\n",
    "# Option A: composite via geometric mean of normalized metrics\n",
    "gdf[\"shape_idx\"] = scaled.prod(axis=1) ** (1/4)\n",
    "\n",
    "# Option B: composite via first principal component\n",
    "pca = PCA(n_components=1)\n",
    "gdf[\"pc1_idx\"] = pca.fit_transform(scaled)\n"
   ]
  },
  {
   "cell_type": "code",
   "execution_count": null,
   "id": "5d48fe21",
   "metadata": {},
   "outputs": [],
   "source": [
    "gdf.to_file(r'Q:\\projects\\GeoBC\\Human Disturbance\\data\\Landclass\\NRcan_urban_cleanup\\urban_sieve_60px_4con_poly_compactnessAttr.shp', driver='ESRI Shapefile')"
   ]
  }
 ],
 "metadata": {
  "kernelspec": {
   "display_name": "geo_py310",
   "language": "python",
   "name": "python3"
  },
  "language_info": {
   "codemirror_mode": {
    "name": "ipython",
    "version": 3
   },
   "file_extension": ".py",
   "mimetype": "text/x-python",
   "name": "python",
   "nbconvert_exporter": "python",
   "pygments_lexer": "ipython3",
   "version": "3.10.14"
  }
 },
 "nbformat": 4,
 "nbformat_minor": 5
}
