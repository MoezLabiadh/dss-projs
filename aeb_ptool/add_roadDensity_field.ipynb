{
 "cells": [
  {
   "cell_type": "code",
   "execution_count": 12,
   "metadata": {},
   "outputs": [],
   "source": [
    "import os\n",
    "import arcpy\n",
    "import pandas as pd\n",
    "from arcgis.gis import GIS\n",
    "from arcgis.features import FeatureLayer\n",
    "from arcgis.features import GeoAccessor, GeoSeriesAccessor"
   ]
  },
  {
   "cell_type": "code",
   "execution_count": 2,
   "metadata": {},
   "outputs": [],
   "source": [
    "gdb = r\"Q:\\projects\\Mwlrs\\AEB_Prioritization_Tool\\data\\AEB_Analysis.gdb\"\n",
    "arcpy.env.workspace= gdb"
   ]
  },
  {
   "cell_type": "code",
   "execution_count": 7,
   "metadata": {},
   "outputs": [],
   "source": [
    "# Get data from the featureclass\n",
    "fc= 'r20250117_AEB_Disturbance_Feature_Class'\n",
    "\n",
    "fields = [\"ASSESSMENT_UNIT_SOURCE_ID\", \"DISTRB_HUMAN_CRNT_20YR_PCNT\", \"RD_STRM_XING_DENS_CLS\", \"RD_STEEP_SLOPE_DENS_CLS\", \"RD_STRM_BUFF_100_DENS_WGHTD_CLS\"]\n",
    "\n",
    "data = []\n",
    "\n",
    "rowcount= 0\n",
    "with arcpy.da.SearchCursor(fc, fields) as cursor:\n",
    "    for row in cursor:\n",
    "        ASSESSMENT_UNIT_SOURCE_ID= row[0]\n",
    "        DISTRB_HUMAN_CRNT_20YR_PCNT = row[1]\n",
    "        RD_STRM_XING_DENS_CLS = row[2]\n",
    "        RD_STEEP_SLOPE_DENS_CLS = row[3]\n",
    "        RD_STRM_BUFF_100_DENS_WGHTD_CLS = row[4]\n",
    "\n",
    "        data.append([ASSESSMENT_UNIT_SOURCE_ID, DISTRB_HUMAN_CRNT_20YR_PCNT, RD_STRM_XING_DENS_CLS, RD_STEEP_SLOPE_DENS_CLS, RD_STRM_BUFF_100_DENS_WGHTD_CLS])\n",
    "\n",
    "        rowcount += 1"
   ]
  },
  {
   "cell_type": "code",
   "execution_count": 8,
   "metadata": {},
   "outputs": [
    {
     "data": {
      "application/vnd.microsoft.datawrangler.viewer.v0+json": {
       "columns": [
        {
         "name": "index",
         "rawType": "int64",
         "type": "integer"
        },
        {
         "name": "ASSESSMENT_UNIT_SOURCE_ID",
         "rawType": "float64",
         "type": "float"
        },
        {
         "name": "DISTRB_HUMAN_CRNT_20YR_PCNT",
         "rawType": "float64",
         "type": "float"
        },
        {
         "name": "RD_STRM_XING_DENS_CLS",
         "rawType": "object",
         "type": "string"
        },
        {
         "name": "RD_STEEP_SLOPE_DENS_CLS",
         "rawType": "object",
         "type": "string"
        },
        {
         "name": "RD_STRM_BUFF_100_DENS_WGHTD_CLS",
         "rawType": "object",
         "type": "string"
        }
       ],
       "conversionMethod": "pd.DataFrame",
       "ref": "30299b97-a35c-4ee6-8eea-60d5bec1e314",
       "rows": [
        [
         "0",
         "18089.0",
         "3.591745536824553",
         "Low",
         "Low",
         "Low"
        ],
        [
         "1",
         "18090.0",
         "8.152683920493462",
         "Moderate",
         "Low",
         "Low"
        ],
        [
         "2",
         "18091.0",
         "1.0517427360757228",
         "Low",
         "Low",
         "Low"
        ],
        [
         "3",
         "18086.0",
         "4.595927417957517",
         "Moderate",
         "Low",
         "Low"
        ],
        [
         "4",
         "18087.0",
         "6.0571313368317465",
         "Moderate",
         "Low",
         "Low"
        ]
       ],
       "shape": {
        "columns": 5,
        "rows": 5
       }
      },
      "text/html": [
       "<div>\n",
       "<style scoped>\n",
       "    .dataframe tbody tr th:only-of-type {\n",
       "        vertical-align: middle;\n",
       "    }\n",
       "\n",
       "    .dataframe tbody tr th {\n",
       "        vertical-align: top;\n",
       "    }\n",
       "\n",
       "    .dataframe thead th {\n",
       "        text-align: right;\n",
       "    }\n",
       "</style>\n",
       "<table border=\"1\" class=\"dataframe\">\n",
       "  <thead>\n",
       "    <tr style=\"text-align: right;\">\n",
       "      <th></th>\n",
       "      <th>ASSESSMENT_UNIT_SOURCE_ID</th>\n",
       "      <th>DISTRB_HUMAN_CRNT_20YR_PCNT</th>\n",
       "      <th>RD_STRM_XING_DENS_CLS</th>\n",
       "      <th>RD_STEEP_SLOPE_DENS_CLS</th>\n",
       "      <th>RD_STRM_BUFF_100_DENS_WGHTD_CLS</th>\n",
       "    </tr>\n",
       "  </thead>\n",
       "  <tbody>\n",
       "    <tr>\n",
       "      <th>0</th>\n",
       "      <td>18089.0</td>\n",
       "      <td>3.591746</td>\n",
       "      <td>Low</td>\n",
       "      <td>Low</td>\n",
       "      <td>Low</td>\n",
       "    </tr>\n",
       "    <tr>\n",
       "      <th>1</th>\n",
       "      <td>18090.0</td>\n",
       "      <td>8.152684</td>\n",
       "      <td>Moderate</td>\n",
       "      <td>Low</td>\n",
       "      <td>Low</td>\n",
       "    </tr>\n",
       "    <tr>\n",
       "      <th>2</th>\n",
       "      <td>18091.0</td>\n",
       "      <td>1.051743</td>\n",
       "      <td>Low</td>\n",
       "      <td>Low</td>\n",
       "      <td>Low</td>\n",
       "    </tr>\n",
       "    <tr>\n",
       "      <th>3</th>\n",
       "      <td>18086.0</td>\n",
       "      <td>4.595927</td>\n",
       "      <td>Moderate</td>\n",
       "      <td>Low</td>\n",
       "      <td>Low</td>\n",
       "    </tr>\n",
       "    <tr>\n",
       "      <th>4</th>\n",
       "      <td>18087.0</td>\n",
       "      <td>6.057131</td>\n",
       "      <td>Moderate</td>\n",
       "      <td>Low</td>\n",
       "      <td>Low</td>\n",
       "    </tr>\n",
       "  </tbody>\n",
       "</table>\n",
       "</div>"
      ],
      "text/plain": [
       "   ASSESSMENT_UNIT_SOURCE_ID  DISTRB_HUMAN_CRNT_20YR_PCNT  \\\n",
       "0                    18089.0                     3.591746   \n",
       "1                    18090.0                     8.152684   \n",
       "2                    18091.0                     1.051743   \n",
       "3                    18086.0                     4.595927   \n",
       "4                    18087.0                     6.057131   \n",
       "\n",
       "  RD_STRM_XING_DENS_CLS RD_STEEP_SLOPE_DENS_CLS  \\\n",
       "0                   Low                     Low   \n",
       "1              Moderate                     Low   \n",
       "2                   Low                     Low   \n",
       "3              Moderate                     Low   \n",
       "4              Moderate                     Low   \n",
       "\n",
       "  RD_STRM_BUFF_100_DENS_WGHTD_CLS  \n",
       "0                             Low  \n",
       "1                             Low  \n",
       "2                             Low  \n",
       "3                             Low  \n",
       "4                             Low  "
      ]
     },
     "execution_count": 8,
     "metadata": {},
     "output_type": "execute_result"
    }
   ],
   "source": [
    "# create a df for raw data\n",
    "df = pd.DataFrame(data, columns=fields)\n",
    "df.head()"
   ]
  },
  {
   "cell_type": "code",
   "execution_count": 9,
   "metadata": {},
   "outputs": [],
   "source": [
    "#Create RD_DENS_CLS\n",
    "def classify_row(row):\n",
    "    # Collect the three column values\n",
    "    values = [\n",
    "        row['RD_STRM_XING_DENS_CLS'], \n",
    "        row['RD_STEEP_SLOPE_DENS_CLS'], \n",
    "        row['RD_STRM_BUFF_100_DENS_WGHTD_CLS']\n",
    "    ]\n",
    "    \n",
    "    # Count how many fields are 'High' and 'Moderate'\n",
    "    high_count = values.count('High')\n",
    "    moderate_count = values.count('Moderate')\n",
    "    \n",
    "    # Apply the classification rules:\n",
    "    # Very High: more than one field is 'high'\n",
    "    if high_count > 1:\n",
    "        return \"Very High\"\n",
    "    # High: one field is 'high' (and the rest are 'low' or 'moderate')\n",
    "    elif high_count == 1:\n",
    "        return \"High\"\n",
    "    # Moderate: at least one 'moderate' and no 'high'\n",
    "    elif moderate_count > 0:\n",
    "        return \"Moderate\"\n",
    "    # Low: all fields are 'low'\n",
    "    else:\n",
    "        return \"Low\"\n",
    "\n",
    "# Assuming df is your DataFrame, create the new column:\n",
    "df['RD_DENS_COMB_CLS'] = df.apply(classify_row, axis=1)"
   ]
  },
  {
   "cell_type": "code",
   "execution_count": 10,
   "metadata": {},
   "outputs": [],
   "source": [
    "df = df[['ASSESSMENT_UNIT_SOURCE_ID','RD_DENS_COMB_CLS']]"
   ]
  },
  {
   "cell_type": "code",
   "execution_count": null,
   "metadata": {},
   "outputs": [],
   "source": [
    "# populate the AGOL layer with new Road Density values\n",
    "AGO_HOST = 'https://governmentofbc.maps.arcgis.com'\n",
    "AGO_USERNAME_DSS = 'XXX'\n",
    "AGO_PASSWORD_DSS = 'XXX'\n",
    "gis= GIS(AGO_HOST, AGO_USERNAME_DSS, AGO_PASSWORD_DSS, verify_cert=False)\n",
    "\n",
    "agol_item_id = '7326558fb14c476bbfc8b7b6ddb45ada'\n",
    "\n",
    "feature_layer = gis.content.get(agol_item_id).layers[0]  # Assuming first layer in the item\n",
    "\n",
    "# Query all features in the layer\n",
    "print ('Reading records from AGOL layer')\n",
    "features = feature_layer.query(where=\"1=1\", out_fields=\"ASSESSMENT_UNIT_SOURCE_ID, RD_DENS_COMB_CLS\", return_geometry=False)\n",
    "features_dict = {f.attributes['ASSESSMENT_UNIT_SOURCE_ID']: f for f in features}\n",
    "\n",
    "# Update features with new drought sensitivity values\n",
    "print ('\\nUpdating data in batches')\n",
    "updated_features = []\n",
    "for index, row in df.iterrows():\n",
    "    unit_id = row['ASSESSMENT_UNIT_SOURCE_ID']\n",
    "    if unit_id in features_dict:\n",
    "        feature = features_dict[unit_id]\n",
    "        feature.attributes['RD_DENS_COMB_CLS'] = row['RD_DENS_COMB_CLS']\n",
    "        updated_features.append(feature)\n",
    "\n",
    "# Function to batch updates\n",
    "def batch_update(features, batch_size=100):\n",
    "    for i in range(0, len(features), batch_size):\n",
    "        batch = features[i:i + batch_size]\n",
    "        response = feature_layer.edit_features(updates=batch)\n",
    "        print(f\"..batch {i // batch_size + 1}: Update response:\", response['updateResults'][0])\n",
    "\n",
    "# Batch and update\n",
    "if updated_features:\n",
    "    batch_update(updated_features, batch_size=100)  # Adjust batch size as needed\n",
    "else:\n",
    "    print(\"No features updated.\")\n"
   ]
  }
 ],
 "metadata": {
  "kernelspec": {
   "display_name": "Python 3",
   "language": "python",
   "name": "python3"
  },
  "language_info": {
   "codemirror_mode": {
    "name": "ipython",
    "version": 3
   },
   "file_extension": ".py",
   "mimetype": "text/x-python",
   "name": "python",
   "nbconvert_exporter": "python",
   "pygments_lexer": "ipython3",
   "version": "3.9.18"
  }
 },
 "nbformat": 4,
 "nbformat_minor": 2
}
