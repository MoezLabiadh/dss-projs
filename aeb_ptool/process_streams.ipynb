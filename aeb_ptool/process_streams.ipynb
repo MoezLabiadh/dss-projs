{
 "cells": [
  {
   "cell_type": "code",
   "execution_count": 1,
   "metadata": {},
   "outputs": [],
   "source": [
    "import arcpy"
   ]
  },
  {
   "cell_type": "code",
   "execution_count": 2,
   "metadata": {},
   "outputs": [],
   "source": [
    "gdb = r\"Q:\\projects\\Mwlrs\\AEB_Prioritization_Tool\\data\\AEB_Analysis.gdb\"\n",
    "arcpy.env.workspace= gdb"
   ]
  },
  {
   "cell_type": "code",
   "execution_count": 4,
   "metadata": {},
   "outputs": [
    {
     "name": "stdout",
     "output_type": "stream",
     "text": [
      "Update complete!\n"
     ]
    }
   ],
   "source": [
    "#Add Major Stream Flag\n",
    "\n",
    "fc = \"streams_assessUnits\"\n",
    "\n",
    "# Create an update cursor to loop through and modify rows\n",
    "with arcpy.da.UpdateCursor(fc, [\"BLUE_LINE_KEY\", \"STREAM_ORDER\", \"MAJOR_STREAM_FLAG\"]) as cursor:\n",
    "    # Create a dictionary to track BLUE_LINE_KEY statuses\n",
    "    blue_line_dict = {}\n",
    "\n",
    "    # First pass to determine if any row for a BLUE_LINE_KEY has STREAM_ORDER >= 8\n",
    "    for row in cursor:\n",
    "        blue_line_key = row[0]\n",
    "        stream_order = row[1]\n",
    "\n",
    "        # Set status for BLUE_LINE_KEY in dictionary\n",
    "        if stream_order >= 8:\n",
    "            blue_line_dict[blue_line_key] = 'Y'\n",
    "        elif blue_line_key not in blue_line_dict:\n",
    "            blue_line_dict[blue_line_key] = 'N'\n",
    "\n",
    "    # Reset the cursor for the second pass\n",
    "    cursor.reset()\n",
    "\n",
    "    # Second pass to update the MAJOR_STREAM_FLAG column\n",
    "    for row in cursor:\n",
    "        blue_line_key = row[0]\n",
    "\n",
    "        # Update MAJOR_STREAM_FLAG based on the dictionary value\n",
    "        row[2] = blue_line_dict[blue_line_key]\n",
    "        cursor.updateRow(row)\n",
    "\n",
    "print(\"Update complete!\")"
   ]
  },
  {
   "cell_type": "code",
   "execution_count": 5,
   "metadata": {},
   "outputs": [
    {
     "name": "stdout",
     "output_type": "stream",
     "text": [
      "Reading Sensitivity values...\n",
      "Populating Stream Sensitivity values...\n",
      "Fields populated successfully!\n"
     ]
    }
   ],
   "source": [
    "#Add Stream sensitivity\n",
    "\n",
    "fc = \"streams_assessUnits_ecosections\"\n",
    "\n",
    "print(\"Reading Sensitivity values...\")\n",
    "# Create a dictionary to store the sensitivity information by BLUE_LINE_KEY\n",
    "sensitivity_dict = {}\n",
    "\n",
    "# Read through the feature class to determine sensitivity\n",
    "with arcpy.da.SearchCursor(fc, [\"BLUE_LINE_KEY\", \"SUMMER_SNTVTY\", \"WINTER_SNTVTY\"]) as cursor:\n",
    "    for row in cursor:\n",
    "        blue_line_key = row[0]\n",
    "        summer_sensitivity = row[1]\n",
    "        winter_sensitivity = row[2]\n",
    "        \n",
    "        if blue_line_key not in sensitivity_dict:\n",
    "            sensitivity_dict[blue_line_key] = {\"SUMMER\": \"Not Sensitive\", \"WINTER\": \"Not Sensitive\"}\n",
    "        \n",
    "        if summer_sensitivity == \"Sensitive\":\n",
    "            sensitivity_dict[blue_line_key][\"SUMMER\"] = \"Sensitive\"\n",
    "        \n",
    "        if winter_sensitivity == \"Sensitive\":\n",
    "            sensitivity_dict[blue_line_key][\"WINTER\"] = \"Sensitive\"\n",
    "\n",
    "print(\"Populating Stream Sensitivity values...\")\n",
    "# Update the feature class with the new sensitivity values\n",
    "with arcpy.da.UpdateCursor(fc, [\"BLUE_LINE_KEY\", \"STREAM_SUMMER_SNTVTY\", \"STREAM_WINTER_SNTVTY\"]) as cursor:\n",
    "    for row in cursor:\n",
    "        blue_line_key = row[0]\n",
    "        row[1] = sensitivity_dict[blue_line_key][\"SUMMER\"]\n",
    "        row[2] = sensitivity_dict[blue_line_key][\"WINTER\"]\n",
    "        cursor.updateRow(row)\n",
    "\n",
    "print(\"Fields populated successfully!\")"
   ]
  }
 ],
 "metadata": {
  "kernelspec": {
   "display_name": "Python 3",
   "language": "python",
   "name": "python3"
  },
  "language_info": {
   "codemirror_mode": {
    "name": "ipython",
    "version": 3
   },
   "file_extension": ".py",
   "mimetype": "text/x-python",
   "name": "python",
   "nbconvert_exporter": "python",
   "pygments_lexer": "ipython3",
   "version": "3.9.18"
  }
 },
 "nbformat": 4,
 "nbformat_minor": 2
}
