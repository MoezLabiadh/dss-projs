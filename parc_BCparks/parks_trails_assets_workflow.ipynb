{
 "cells": [
  {
   "cell_type": "code",
   "execution_count": 2,
   "metadata": {},
   "outputs": [],
   "source": [
    "import warnings\n",
    "warnings.simplefilter(action='ignore')\n",
    "\n",
    "import logging\n",
    "logging.basicConfig(level=logging.INFO, format='%(message)s')"
   ]
  },
  {
   "cell_type": "code",
   "execution_count": 3,
   "metadata": {},
   "outputs": [
    {
     "name": "stderr",
     "output_type": "stream",
     "text": [
      "Note: NumExpr detected 12 cores but \"NUMEXPR_MAX_THREADS\" not set, so enforcing safe limit of 8.\n",
      "NumExpr defaulting to 8 threads.\n"
     ]
    }
   ],
   "source": [
    "import os\n",
    "import json\n",
    "import pandas as pd\n",
    "import geopandas as gpd\n",
    "from io import BytesIO\n",
    "from datetime import datetime\n",
    "from arcgis.gis import GIS"
   ]
  },
  {
   "cell_type": "code",
   "execution_count": 4,
   "metadata": {},
   "outputs": [],
   "source": [
    "logging.basicConfig(level=logging.INFO, format='%(message)s')"
   ]
  },
  {
   "cell_type": "code",
   "execution_count": 16,
   "metadata": {},
   "outputs": [],
   "source": [
    "# inputs\n",
    "wks= r'Q:\\dss_workarea\\mlabiadh\\workspace\\20241015_Park_assets_script'\n",
    "f_assets= os.path.join(wks, 'data', 'PARC_citywide_export.xlsx')\n",
    "f_trails= os.path.join(wks, 'data', 'trails.shp')"
   ]
  },
  {
   "cell_type": "code",
   "execution_count": 6,
   "metadata": {},
   "outputs": [
    {
     "data": {
      "text/plain": [
       "(103681, 13)"
      ]
     },
     "execution_count": 6,
     "metadata": {},
     "output_type": "execute_result"
    }
   ],
   "source": [
    "# read the assets xlsx into a df\n",
    "df= pd.read_excel(f_assets)\n",
    "df.shape"
   ]
  },
  {
   "cell_type": "code",
   "execution_count": 7,
   "metadata": {},
   "outputs": [
    {
     "data": {
      "text/plain": [
       "Index(['Asset ID', 'GIS ID', 'Park', 'Park Subarea',\n",
       "       'Category - Classification', 'Segment - Sub Classification',\n",
       "       'Description', 'Campsite Number', 'Name', 'acs Is Asset Accessible',\n",
       "       'acs Is the Route to the Asset Accessible', 'GIS Latitude',\n",
       "       'GIS Longitude'],\n",
       "      dtype='object')"
      ]
     },
     "execution_count": 7,
     "metadata": {},
     "output_type": "execute_result"
    }
   ],
   "source": [
    "# make GIS-friendly column names\n",
    "#df.columns = df.columns.str.replace(' - ', '_').str.replace(' ', '_')\n",
    "df.columns"
   ]
  },
  {
   "cell_type": "code",
   "execution_count": 8,
   "metadata": {},
   "outputs": [
    {
     "data": {
      "text/plain": [
       "(103496, 13)"
      ]
     },
     "execution_count": 8,
     "metadata": {},
     "output_type": "execute_result"
    }
   ],
   "source": [
    "# remove rows with missing coordinates\n",
    "df = df.dropna(subset=['GIS Latitude', 'GIS Longitude'])\n",
    "df.shape"
   ]
  },
  {
   "cell_type": "code",
   "execution_count": 9,
   "metadata": {},
   "outputs": [
    {
     "data": {
      "text/plain": [
       "(0, 13)"
      ]
     },
     "execution_count": 9,
     "metadata": {},
     "output_type": "execute_result"
    }
   ],
   "source": [
    "# check for out-of-range coordinates\n",
    "lat_min, lat_max = 47, 60\n",
    "lon_min, lon_max = -145, -113\n",
    "\n",
    "outside_bc = df[\n",
    "    (df['GIS Latitude'] < lat_min) | (df['GIS Latitude'] > lat_max) |\n",
    "    (df['GIS Longitude'] < lon_min) | (df['GIS Longitude'] > lon_max)\n",
    "]\n",
    "\n",
    "outside_bc.shape\n"
   ]
  },
  {
   "cell_type": "code",
   "execution_count": 10,
   "metadata": {},
   "outputs": [
    {
     "data": {
      "text/plain": [
       "(103496, 14)"
      ]
     },
     "execution_count": 10,
     "metadata": {},
     "output_type": "execute_result"
    }
   ],
   "source": [
    "# convert to geodataframe\n",
    "gdf = gpd.GeoDataFrame(\n",
    "    df,\n",
    "    geometry=gpd.points_from_xy(df['GIS Longitude'], df['GIS Latitude']),\n",
    "    crs=\"EPSG:4326\"\n",
    ")\n",
    "gdf.shape"
   ]
  },
  {
   "cell_type": "code",
   "execution_count": 11,
   "metadata": {},
   "outputs": [
    {
     "data": {
      "text/plain": [
       "Asset ID                                       int64\n",
       "GIS ID                                        object\n",
       "Park                                          object\n",
       "Park Subarea                                  object\n",
       "Category - Classification                     object\n",
       "Segment - Sub Classification                  object\n",
       "Description                                   object\n",
       "Campsite Number                               object\n",
       "Name                                          object\n",
       "acs Is Asset Accessible                       object\n",
       "acs Is the Route to the Asset Accessible      object\n",
       "GIS Latitude                                 float64\n",
       "GIS Longitude                                float64\n",
       "geometry                                    geometry\n",
       "dtype: object"
      ]
     },
     "execution_count": 11,
     "metadata": {},
     "output_type": "execute_result"
    }
   ],
   "source": [
    "# convert object cols to strings (objects not supported by fiona)\n",
    "gdf = gdf.astype(\n",
    "    {col: 'str' for col in gdf.select_dtypes(include=['object']).columns}\n",
    "    )\n",
    "gdf.dtypes"
   ]
  },
  {
   "cell_type": "code",
   "execution_count": 17,
   "metadata": {},
   "outputs": [
    {
     "name": "stderr",
     "output_type": "stream",
     "text": [
      "Found credentials in environment variables.\n",
      "Found credentials in environment variables.\n"
     ]
    }
   ],
   "source": [
    "# read the trails shapefile\n",
    "gdf_tr= gpd.read_file(f_trails)"
   ]
  },
  {
   "cell_type": "code",
   "execution_count": 18,
   "metadata": {},
   "outputs": [
    {
     "data": {
      "text/plain": [
       "Index(['ogc_fid', 'assetid', 'gisid', 'asset_cate', 'asset_type', 'park',\n",
       "       'park_subar', 'trail_surf', 'length_m', 'trail_name', 'osmid',\n",
       "       'descriptio', 'verified_b', 'accessible', 'route_acce', 'geometry'],\n",
       "      dtype='object')"
      ]
     },
     "execution_count": 18,
     "metadata": {},
     "output_type": "execute_result"
    }
   ],
   "source": [
    "gdf_tr.columns"
   ]
  },
  {
   "cell_type": "code",
   "execution_count": 20,
   "metadata": {},
   "outputs": [],
   "source": [
    "# rename Trails columns to match with Assets dataset (if matches!) and/or assign readable names\n",
    "gdf_tr= gdf_tr.rename(\n",
    "            columns={\"assetid\": \"Asset ID\", \n",
    "                    \"gisid\": \"GIS ID\",\n",
    "                    \"asset_cate\": \"Category - Classification\",\n",
    "                    \"asset_type\": \"Asset Type\",\n",
    "                    \"park\": \"Park\",\n",
    "                    \"park_subar\": \"Park Subarea\",\n",
    "                    \"trail_surf\": \"Trail Surface\",\n",
    "                    \"length_m\": \"Length Meters\",\n",
    "                    \"trail_name\": \"Trail Name\",\n",
    "                    \"osmid\": \"OSM ID\",\n",
    "                    \"descriptio\": \"Description\",\n",
    "                    \"verified_b\": \"Verified By\",\n",
    "                    \"accessible\": \"Is Accessible\",\n",
    "                    \"route_acce\": \"Is Route Accessible\",\n",
    "                    }\n",
    "        )"
   ]
  },
  {
   "cell_type": "code",
   "execution_count": 38,
   "metadata": {},
   "outputs": [
    {
     "data": {
      "text/plain": [
       "<Geographic 2D CRS: EPSG:4326>\n",
       "Name: WGS 84\n",
       "Axis Info [ellipsoidal]:\n",
       "- Lat[north]: Geodetic latitude (degree)\n",
       "- Lon[east]: Geodetic longitude (degree)\n",
       "Area of Use:\n",
       "- name: World.\n",
       "- bounds: (-180.0, -90.0, 180.0, 90.0)\n",
       "Datum: World Geodetic System 1984 ensemble\n",
       "- Ellipsoid: WGS 84\n",
       "- Prime Meridian: Greenwich"
      ]
     },
     "execution_count": 38,
     "metadata": {},
     "output_type": "execute_result"
    }
   ],
   "source": [
    "# reproject trails gdf to wgs84\n",
    "gdf_tr= gdf_tr.to_crs(4326)\n",
    "gdf_tr.crs"
   ]
  },
  {
   "cell_type": "code",
   "execution_count": 21,
   "metadata": {},
   "outputs": [
    {
     "name": "stderr",
     "output_type": "stream",
     "text": [
      "..successfully connected to AGOL as MLABIADH.BC\n"
     ]
    }
   ],
   "source": [
    "# connect to AGOL\n",
    "def connect_to_AGO (HOST, USERNAME, PASSWORD):\n",
    "    \"\"\" \n",
    "    Connects to AGOL\n",
    "    \"\"\"     \n",
    "    gis = GIS(HOST, USERNAME, PASSWORD)\n",
    "\n",
    "    # Test if the connection is successful\n",
    "    if gis.users.me:\n",
    "        logging.info(f'..successfully connected to AGOL as {gis.users.me.username}')\n",
    "    else:\n",
    "        logging.error('..connection to AGOL failed.')\n",
    "    \n",
    "    return gis\n",
    "\n",
    "\n",
    "AGO_HOST = os.getenv('AGO_HOST')\n",
    "AGO_USERNAME = os.getenv('AGO_USERNAME_ML')\n",
    "AGO_PASSWORD = os.getenv('AGO_PASSWORD_ML')\n",
    "\n",
    "gis = connect_to_AGO(AGO_HOST, AGO_USERNAME, AGO_PASSWORD)"
   ]
  },
  {
   "cell_type": "code",
   "execution_count": 41,
   "metadata": {},
   "outputs": [],
   "source": [
    "def publish_feature_layer(gis, gdf, title, geojson_name, item_desc, folder):\n",
    "    \"\"\"\n",
    "    Publishes a gdf to AGO as Feature Layer, overwriting if it already exists.\n",
    "    \"\"\"\n",
    "    #format null values\n",
    "    gdf = gdf.replace(['nan'], '')\n",
    "\n",
    "    logging.info(f\"..converting data to geojson.\")\n",
    "    def gdf_to_geojson(gdf):\n",
    "            features = []\n",
    "            for _, row in gdf.iterrows():\n",
    "                feature = {\n",
    "                    \"type\": \"Feature\",\n",
    "                    \"properties\": {},\n",
    "                    \"geometry\": row['geometry'].__geo_interface__\n",
    "                }\n",
    "                for column, value in row.items():\n",
    "                    if column != 'geometry':\n",
    "                        if isinstance(value, (datetime, pd.Timestamp)):\n",
    "                            feature['properties'][column] = value.isoformat() if not pd.isna(value) else ''\n",
    "                        else:\n",
    "                            feature['properties'][column] = value\n",
    "                features.append(feature)\n",
    "            \n",
    "            geojson_dict = {\n",
    "                \"type\": \"FeatureCollection\",\n",
    "                \"features\": features\n",
    "            }\n",
    "            return geojson_dict\n",
    "\n",
    "    # Convert GeoDataFrame to GeoJSON\n",
    "    geojson_dict = gdf_to_geojson(gdf)\n",
    "\n",
    "    try:\n",
    "        #search for an existing GeoJSON\n",
    "        existing_items = gis.content.search(\n",
    "            f\"title:\\\"{title}\\\" AND owner:{gis.users.me.username}\",\n",
    "            item_type=\"GeoJson\"\n",
    "        )\n",
    "        # if an existing GeoJSON is found, Delete it\n",
    "        for item in existing_items:\n",
    "            if item.type == 'GeoJson':\n",
    "                item.delete(force=True, permanent=True)\n",
    "                logging.info(f\"..existing GeoJSON item '{item.title}' deleted.\")\n",
    "\n",
    "        # Create a new GeoJSON item\n",
    "        geojson_item_properties = {\n",
    "            'title': title,\n",
    "            'type': 'GeoJson',\n",
    "            'tags': 'BCparks data',\n",
    "            'description': item_desc,\n",
    "            'fileName': f'{geojson_name}.geojson'\n",
    "        }\n",
    "        geojson_file = BytesIO(json.dumps(geojson_dict).encode('utf-8'))\n",
    "        new_geojson_item = gis.content.add(item_properties=geojson_item_properties, data=geojson_file, folder=folder)\n",
    "\n",
    "        # Overwrite the existing feature layer or create a new one if it doesn't exist\n",
    "        published_item = new_geojson_item.publish(overwrite=True)\n",
    "        logging.info(f\"..feature layer '{title}' published successfully.\")\n",
    "\n",
    "        return published_item\n",
    "\n",
    "\n",
    "    except Exception as e:\n",
    "        error_message = f\"..error publishing/updating feature layer: {str(e)}\"\n",
    "        raise RuntimeError(error_message)"
   ]
  },
  {
   "cell_type": "code",
   "execution_count": 42,
   "metadata": {},
   "outputs": [
    {
     "name": "stderr",
     "output_type": "stream",
     "text": [
      "..converting data to geojson.\n",
      "..existing GeoJSON item 'PARC_L1G_Park_Asset_Data_Feature_Layer_v2_tests' deleted.\n",
      "..feature layer 'PARC_L1G_Park_Asset_Data_Feature_Layer_v2_tests' published successfully.\n"
     ]
    },
    {
     "data": {
      "text/html": [
       "<div class=\"item_container\" style=\"height: auto; overflow: hidden; border: 1px solid #cfcfcf; border-radius: 2px; background: #f6fafa; line-height: 1.21429em; padding: 10px;\">\n",
       "                    <div class=\"item_left\" style=\"width: 210px; float: left;\">\n",
       "                       <a href='https://governmentofbc.maps.arcgis.com/home/item.html?id=639540fc1e7c40c5a2954cdc3b4185da' target='_blank'>\n",
       "                        <img src='data:image/png;base64,iVBORw0KGgoAAAANSUhEUgAAAMgAAACFCAYAAAAenrcsAAAEJ0lEQVR4Xu3bz2vbdRzH8f05XmQXQal1s+YgKnasCDtMdpGyRjt30HbrimO2+6GtPydb2x10pYeh9OAcIop404NUnPiTzXamS5akaX7M9HfTvEziQfiCr1uST+H5gC+E7+ed45PvN998P3sE4H/tiZ4A8B8CAQwCAQwCAQwCAQwCAQwCAQwCAQwCAQwCAQwCAQwCAQwCAQwCAQwCAQwCAQwCAQwCAQwCAQwCAQwCAQwCAQwCAQwCAQwCAQwCAQwCAQwCAQwCAQwCAQwCAQwCAQwCAQwCAQwCAQwCAQwCAQwCAQwCAQwCAQwCAQwCAQwC2UWqOxVVK5XoaTQRgewSm8W8CleGlXurXxu5pegymoRAdony7z9r6fWYcoMdWvnxh+gymoRAdoWqqttbKn37Re34vPZ5OzqAJiGQwFU21lWYnVBu5h1V1taiy2gyAglc+debKrx5QPnhmMpz30eX0WQEEqj6bdR6+q6yHwzpdvwJpaeGVFkpR8fQZAQSoM3CsgpTp5SIx7R+6YCS8S7trK5Ex9ACBBKgxhOrMzGlXn5It+L7lboy2vgPBK1HIAGqVrZV+u5LZWanVLrYp/zoIZX/+C06hhYgkECVf5lT8uzR2m3Wg0r2PqD0QI/+/mkuOoYmI5DQVKuNI/P+K1qb7FHi+EEtHO9ScfRR5T+5Gp1GkxFIKGpRFL/5VIujR5W9eFKZz65pvr9TmYGntDh+QvmvP9Z2+X70W2gyAglE/bFuaqi79sP8Ya28+4zSE2NKnD6i0vh+Zc/3R8fRIgQSitoVJHdjRn8O9uju2Au6d/pw7bbqoBIXjmnjXiI6jRYhkIDsbG40Xi3Z2drSX8PPKf3qXhW/uh4dQwsRSCA28zkVJk8qN9an7LUJ5c8dVvLySOORL9qHQAJx/+acMsOdWhro0Hz8aZXG9ilbu71CexFIIJZn3tbySLdu9caUO3NI8y89qfXFhegYWoxAApH58ILSJ/bq9pF9Kp7vVPLFmHZ4vb3tCCQAlfU1LU2PK3G2T6n3BpU69piy12dU3yiF9iKQADT2fLzRreVTj2uh9xEVRjqUn52OjqENCCQA9Z2CycnXdCfeqTtDz2vpxjR7PwJBIIH49yryrPLDXewcDAiBBKJ+FUl/dE6ZqyOqrK5Gl9EmBAIYBAIYBAIYBAIYBAIYBAIYBAIYBAIYBAIYBAIYBAIYBAIYBAIYBAIYBAIYBAIYBAIYBAIYBAIYBAIYBAIYBAIYBAIYBAIYBAIYBAIYBAIYBAIYBAIYBAIYBAIYBAIYBAIYBAIYBAIYBAIYBAIYBAIYBAIYBAIYBAIYBAIYBAIYBAIYBAIYBAIYBAIYBAIYBAIYBAIYBAIYBAIYBAIYBAIYBAIYBAIYBAIYBAIYBAIYBAIYBAIYBAIYBAIYBAIYBAIY/wAtS6CUBDBWVwAAAABJRU5ErkJggg==' width='200' height='133' class=\"itemThumbnail\">\n",
       "                       </a>\n",
       "                    </div>\n",
       "\n",
       "                    <div class=\"item_right\"     style=\"float: none; width: auto; overflow: hidden;\">\n",
       "                        <a href='https://governmentofbc.maps.arcgis.com/home/item.html?id=639540fc1e7c40c5a2954cdc3b4185da' target='_blank'><b>PARC_L1G_Park_Asset_Data_Feature_Layer_v2_tests</b>\n",
       "                        </a>\n",
       "                        <br/>Feature Layer for the BCParks assets (test)<img src='https://governmentofbc.maps.arcgis.com/home/js/jsapi/esri/css/images/item_type_icons/featureshosted16.png' style=\"vertical-align:middle;\" width=16 height=16>Feature Layer Collection by MLABIADH.BC\n",
       "                        <br/>Last Modified: October 24, 2024\n",
       "                        <br/>0 comments, 19 views\n",
       "                    </div>\n",
       "                </div>\n",
       "                "
      ],
      "text/plain": [
       "<Item title:\"PARC_L1G_Park_Asset_Data_Feature_Layer_v2_tests\" type:Feature Layer Collection owner:MLABIADH.BC>"
      ]
     },
     "execution_count": 42,
     "metadata": {},
     "output_type": "execute_result"
    }
   ],
   "source": [
    "# publish the assets dataset to AGO\n",
    "title= 'PARC_L1G_Park_Asset_Data_Feature_Layer_v2_tests'\n",
    "folder= '2024_PARC'\n",
    "geojson_name= 'assets'\n",
    "item_desc= 'Point dataset - Park assets'\n",
    "\n",
    "#gdf_test = gdf.head(2)\n",
    "#print (gdf_test.shape)\n",
    "\n",
    "#LayerID: 639540fc1e7c40c5a2954cdc3b4185da\n",
    "\n",
    "publish_feature_layer(gis, gdf, title, geojson_name, item_desc, folder)"
   ]
  },
  {
   "cell_type": "code",
   "execution_count": 43,
   "metadata": {},
   "outputs": [
    {
     "name": "stderr",
     "output_type": "stream",
     "text": [
      "..converting data to geojson.\n",
      "..existing GeoJSON item 'PARC_L1G_Park_Trails_Data_Feature_Layer_v2_tests' deleted.\n",
      "..feature layer 'PARC_L1G_Park_Trails_Data_Feature_Layer_v2_tests' published successfully.\n"
     ]
    },
    {
     "data": {
      "text/html": [
       "<div class=\"item_container\" style=\"height: auto; overflow: hidden; border: 1px solid #cfcfcf; border-radius: 2px; background: #f6fafa; line-height: 1.21429em; padding: 10px;\">\n",
       "                    <div class=\"item_left\" style=\"width: 210px; float: left;\">\n",
       "                       <a href='https://governmentofbc.maps.arcgis.com/home/item.html?id=dc74c1c3ed8842c5b919e475286a761e' target='_blank'>\n",
       "                        <img src='data:image/png;base64,iVBORw0KGgoAAAANSUhEUgAAAMgAAACFCAYAAAAenrcsAAABc0lEQVR4Xu3TIQrAMADAwP7/o/OD6k0OCo3txJ2Mz3iArbEG4GMQCAaBYBAIBoFgEAgGgWAQCAaBYBAIBoFgEAgGgWAQCAaBYBAIBoFgEAgGgWAQCAaBYBAIBoFgEAgGgWAQCAaBYBAIBoFgEAgGgWAQCAaBYBAIBoFgEAgGgWAQCAaBYBAIBoFgEAgGgWAQCAaBYBAIBoFgEAgGgWAQCAaBYBAIBoFgEAgGgWAQCAaBYBAIBoFgEAgGgWAQCAaBYBAIBoFgkJ+5r7kmDjIIBINAMAgEg0AwCASDQDAIBINAMAgEg0AwCASDQDAIBINAMAgEg0AwCASDQDAIBINAMAgEg0AwCASDQDAIBINAMAgEg0AwCASDQDAIBINAMAgEg0AwCASDQDAIBINAMAgEg0AwCASDQDAIBINAMAgEg0AwCASDQDAIBINAMAgEg0AwCASDQDAIBINAMAgEg0AwCASDQDAIBINAMAgEg0AwCASDQHgB/ucYdEVHALYAAAAASUVORK5CYII=' width='200' height='133' class=\"itemThumbnail\">\n",
       "                       </a>\n",
       "                    </div>\n",
       "\n",
       "                    <div class=\"item_right\"     style=\"float: none; width: auto; overflow: hidden;\">\n",
       "                        <a href='https://governmentofbc.maps.arcgis.com/home/item.html?id=dc74c1c3ed8842c5b919e475286a761e' target='_blank'><b>PARC_L1G_Park_Trails_Data_Feature_Layer_v2_tests</b>\n",
       "                        </a>\n",
       "                        <br/>Feature Layer for the BCParks assets (test)<img src='https://governmentofbc.maps.arcgis.com/home/js/jsapi/esri/css/images/item_type_icons/featureshosted16.png' style=\"vertical-align:middle;\" width=16 height=16>Feature Layer Collection by MLABIADH.BC\n",
       "                        <br/>Last Modified: October 24, 2024\n",
       "                        <br/>0 comments, 4 views\n",
       "                    </div>\n",
       "                </div>\n",
       "                "
      ],
      "text/plain": [
       "<Item title:\"PARC_L1G_Park_Trails_Data_Feature_Layer_v2_tests\" type:Feature Layer Collection owner:MLABIADH.BC>"
      ]
     },
     "execution_count": 43,
     "metadata": {},
     "output_type": "execute_result"
    }
   ],
   "source": [
    "# publish the trails dataset to AGO\n",
    "title= 'PARC_L1G_Park_Trails_Data_Feature_Layer_v2_tests'\n",
    "folder= '2024_PARC'\n",
    "geojson_name= 'trails'\n",
    "item_desc= 'Line dataset - Park trails'\n",
    "\n",
    "#gdf_tr_test = gdf_tr.head(2)\n",
    "#print (gdf_tr_test.shape)\n",
    "\n",
    "#LayerID: dc74c1c3ed8842c5b919e475286a761e\n",
    "\n",
    "publish_feature_layer(gis, gdf_tr, title, geojson_name, item_desc, folder)"
   ]
  }
 ],
 "metadata": {
  "kernelspec": {
   "display_name": "cwd_py309",
   "language": "python",
   "name": "python3"
  },
  "language_info": {
   "codemirror_mode": {
    "name": "ipython",
    "version": 3
   },
   "file_extension": ".py",
   "mimetype": "text/x-python",
   "name": "python",
   "nbconvert_exporter": "python",
   "pygments_lexer": "ipython3",
   "version": "3.9.19"
  }
 },
 "nbformat": 4,
 "nbformat_minor": 2
}
