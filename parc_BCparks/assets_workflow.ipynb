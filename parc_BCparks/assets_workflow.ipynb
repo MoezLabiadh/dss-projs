{
 "cells": [
  {
   "cell_type": "code",
   "execution_count": 6,
   "metadata": {},
   "outputs": [],
   "source": [
    "import warnings\n",
    "warnings.simplefilter(action='ignore')\n",
    "\n",
    "import logging\n",
    "logging.basicConfig(level=logging.INFO, format='%(message)s')"
   ]
  },
  {
   "cell_type": "code",
   "execution_count": 7,
   "metadata": {},
   "outputs": [],
   "source": [
    "import os\n",
    "import json\n",
    "import pandas as pd\n",
    "import geopandas as gpd\n",
    "from io import BytesIO\n",
    "from datetime import datetime\n",
    "from arcgis.gis import GIS"
   ]
  },
  {
   "cell_type": "code",
   "execution_count": 8,
   "metadata": {},
   "outputs": [],
   "source": [
    "logging.basicConfig(level=logging.INFO, format='%(message)s')"
   ]
  },
  {
   "cell_type": "code",
   "execution_count": 9,
   "metadata": {},
   "outputs": [],
   "source": [
    "#locations\n",
    "wks= r'Q:\\dss_workarea\\mlabiadh\\workspace\\20241015_Park_assets_script'\n",
    "f_assets= os.path.join(wks, 'data', 'PARC_citywide_export.xlsx')"
   ]
  },
  {
   "cell_type": "code",
   "execution_count": 10,
   "metadata": {},
   "outputs": [
    {
     "data": {
      "text/plain": [
       "(103681, 13)"
      ]
     },
     "execution_count": 10,
     "metadata": {},
     "output_type": "execute_result"
    }
   ],
   "source": [
    "# read the assets xlsx into a df\n",
    "df= pd.read_excel(f_assets)\n",
    "df.shape"
   ]
  },
  {
   "cell_type": "code",
   "execution_count": 11,
   "metadata": {},
   "outputs": [
    {
     "data": {
      "text/plain": [
       "Index(['Asset_ID', 'GIS_ID', 'Park', 'Park_Subarea', 'Category_Classification',\n",
       "       'Segment_Sub_Classification', 'Description', 'Campsite_Number', 'Name',\n",
       "       'acs_Is_Asset_Accessible', 'acs_Is_the_Route_to_the_Asset_Accessible',\n",
       "       'GIS_Latitude', 'GIS_Longitude'],\n",
       "      dtype='object')"
      ]
     },
     "execution_count": 11,
     "metadata": {},
     "output_type": "execute_result"
    }
   ],
   "source": [
    "# make GIS-friendly column names\n",
    "df.columns = df.columns.str.replace(' - ', '_').str.replace(' ', '_')\n",
    "df.columns"
   ]
  },
  {
   "cell_type": "code",
   "execution_count": 12,
   "metadata": {},
   "outputs": [
    {
     "data": {
      "text/plain": [
       "(103496, 13)"
      ]
     },
     "execution_count": 12,
     "metadata": {},
     "output_type": "execute_result"
    }
   ],
   "source": [
    "# remove rows with missing coordinates\n",
    "df = df.dropna(subset=['GIS_Latitude', 'GIS_Longitude'])\n",
    "df.shape"
   ]
  },
  {
   "cell_type": "code",
   "execution_count": 13,
   "metadata": {},
   "outputs": [
    {
     "data": {
      "text/plain": [
       "(0, 13)"
      ]
     },
     "execution_count": 13,
     "metadata": {},
     "output_type": "execute_result"
    }
   ],
   "source": [
    "# check for out-of-range coordinates\n",
    "lat_min, lat_max = 47, 60\n",
    "lon_min, lon_max = -145, -113\n",
    "\n",
    "outside_bc = df[\n",
    "    (df['GIS_Latitude'] < lat_min) | (df['GIS_Latitude'] > lat_max) |\n",
    "    (df['GIS_Longitude'] < lon_min) | (df['GIS_Longitude'] > lon_max)\n",
    "]\n",
    "\n",
    "outside_bc.shape\n"
   ]
  },
  {
   "cell_type": "code",
   "execution_count": 32,
   "metadata": {},
   "outputs": [
    {
     "data": {
      "text/plain": [
       "(103496, 14)"
      ]
     },
     "execution_count": 32,
     "metadata": {},
     "output_type": "execute_result"
    }
   ],
   "source": [
    "# convert to geodataframe\n",
    "gdf = gpd.GeoDataFrame(\n",
    "    df,\n",
    "    geometry=gpd.points_from_xy(df['GIS_Longitude'], df['GIS_Latitude']),\n",
    "    crs=\"EPSG:4326\"\n",
    ")\n",
    "gdf.shape"
   ]
  },
  {
   "cell_type": "code",
   "execution_count": 33,
   "metadata": {},
   "outputs": [
    {
     "data": {
      "text/plain": [
       "Asset_ID                                       int64\n",
       "GIS_ID                                        object\n",
       "Park                                          object\n",
       "Park_Subarea                                  object\n",
       "Category_Classification                       object\n",
       "Segment_Sub_Classification                    object\n",
       "Description                                   object\n",
       "Campsite_Number                               object\n",
       "Name                                          object\n",
       "acs_Is_Asset_Accessible                       object\n",
       "acs_Is_the_Route_to_the_Asset_Accessible      object\n",
       "GIS_Latitude                                 float64\n",
       "GIS_Longitude                                float64\n",
       "geometry                                    geometry\n",
       "dtype: object"
      ]
     },
     "execution_count": 33,
     "metadata": {},
     "output_type": "execute_result"
    }
   ],
   "source": [
    "# convert object cols to strings (objects not supported by fiona)\n",
    "gdf = gdf.astype(\n",
    "    {col: 'str' for col in gdf.select_dtypes(include=['object']).columns}\n",
    "    )\n",
    "gdf.dtypes"
   ]
  },
  {
   "cell_type": "code",
   "execution_count": 16,
   "metadata": {},
   "outputs": [],
   "source": [
    "#test - export to file\n",
    "#gdf.to_file(os.path.join(wks, 'work', 'test_assets.geojson'))"
   ]
  },
  {
   "cell_type": "code",
   "execution_count": 17,
   "metadata": {},
   "outputs": [
    {
     "name": "stderr",
     "output_type": "stream",
     "text": [
      "..successfully connected to AGOL as MLABIADH.BC\n"
     ]
    }
   ],
   "source": [
    "# connect to AGOL\n",
    "def connect_to_AGO (HOST, USERNAME, PASSWORD):\n",
    "    \"\"\" \n",
    "    Connects to AGOL\n",
    "    \"\"\"     \n",
    "    gis = GIS(HOST, USERNAME, PASSWORD)\n",
    "\n",
    "    # Test if the connection is successful\n",
    "    if gis.users.me:\n",
    "        logging.info(f'..successfully connected to AGOL as {gis.users.me.username}')\n",
    "    else:\n",
    "        logging.error('..connection to AGOL failed.')\n",
    "    \n",
    "    return gis\n",
    "\n",
    "\n",
    "AGO_HOST = os.getenv('AGO_HOST')\n",
    "AGO_USERNAME = os.getenv('AGO_USERNAME_ML')\n",
    "AGO_PASSWORD = os.getenv('AGO_PASSWORD_ML')\n",
    "\n",
    "gis = connect_to_AGO(AGO_HOST, AGO_USERNAME, AGO_PASSWORD)"
   ]
  },
  {
   "cell_type": "code",
   "execution_count": 76,
   "metadata": {},
   "outputs": [],
   "source": [
    "def publish_feature_layer(gis, gdf, title, folder):\n",
    "    \"\"\"\n",
    "    Publishes a gdf to AGO as Feature Layer, overwriting if it already exists.\n",
    "    \"\"\"\n",
    "\n",
    "    #format null values\n",
    "    gdf = gdf.replace(['nan'], '')\n",
    "\n",
    "    def gdf_to_geojson(gdf):\n",
    "            features = []\n",
    "            for _, row in gdf.iterrows():\n",
    "                feature = {\n",
    "                    \"type\": \"Feature\",\n",
    "                    \"properties\": {},\n",
    "                    \"geometry\": row['geometry'].__geo_interface__\n",
    "                }\n",
    "                for column, value in row.items():\n",
    "                    if column != 'geometry':\n",
    "                        if isinstance(value, (datetime, pd.Timestamp)):\n",
    "                            feature['properties'][column] = value.isoformat() if not pd.isna(value) else ''\n",
    "                        else:\n",
    "                            feature['properties'][column] = value\n",
    "                features.append(feature)\n",
    "            \n",
    "            geojson_dict = {\n",
    "                \"type\": \"FeatureCollection\",\n",
    "                \"features\": features\n",
    "            }\n",
    "            return geojson_dict\n",
    "\n",
    "    # Convert GeoDataFrame to GeoJSON\n",
    "    geojson_dict = gdf_to_geojson(gdf)\n",
    "\n",
    "    try:\n",
    "        #search for an existing GeoJSON\n",
    "        existing_items = gis.content.search(\n",
    "            f\"title:\\\"{title}\\\" AND owner:{gis.users.me.username}\",\n",
    "            item_type=\"GeoJson\"\n",
    "        )\n",
    "        # if an existing GeoJSON is found, Delete it\n",
    "        for item in existing_items:\n",
    "            if item.type == 'GeoJson':\n",
    "                item.delete(force=True, permanent=True)\n",
    "                logging.info(f\"..existing GeoJSON item '{item.title}' deleted.\")\n",
    "\n",
    "        # Create a new GeoJSON item\n",
    "        geojson_item_properties = {\n",
    "            'title': title,\n",
    "            'type': 'GeoJson',\n",
    "            'tags': 'park assets,geojson',\n",
    "            'description': 'Point dataset containing Park Assets',\n",
    "            'fileName': 'assets.geojson'\n",
    "        }\n",
    "        geojson_file = BytesIO(json.dumps(geojson_dict).encode('utf-8'))\n",
    "        new_geojson_item = gis.content.add(item_properties=geojson_item_properties, data=geojson_file, folder=folder)\n",
    "\n",
    "        # Overwrite the existing feature layer or create a new one if it doesn't exist\n",
    "        published_item = new_geojson_item.publish(overwrite=True)\n",
    "        logging.info(f\"..feature layer '{title}' published successfully.\")\n",
    "\n",
    "        return published_item\n",
    "\n",
    "\n",
    "    except Exception as e:\n",
    "        error_message = f\"..error publishing/updating feature layer: {str(e)}\"\n",
    "        raise RuntimeError(error_message)"
   ]
  },
  {
   "cell_type": "code",
   "execution_count": 81,
   "metadata": {},
   "outputs": [
    {
     "name": "stdout",
     "output_type": "stream",
     "text": [
      "(100, 14)\n"
     ]
    },
    {
     "name": "stderr",
     "output_type": "stream",
     "text": [
      "..existing GeoJSON item 'PARC_L1G_Park_Asset_Data_Feature_Layer_v2_tests' deleted.\n",
      "..feature layer 'PARC_L1G_Park_Asset_Data_Feature_Layer_v2_tests' published successfully.\n"
     ]
    },
    {
     "data": {
      "text/html": [
       "<div class=\"item_container\" style=\"height: auto; overflow: hidden; border: 1px solid #cfcfcf; border-radius: 2px; background: #f6fafa; line-height: 1.21429em; padding: 10px;\">\n",
       "                    <div class=\"item_left\" style=\"width: 210px; float: left;\">\n",
       "                       <a href='https://governmentofbc.maps.arcgis.com/home/item.html?id=639540fc1e7c40c5a2954cdc3b4185da' target='_blank'>\n",
       "                        <img src='data:image/png;base64,iVBORw0KGgoAAAANSUhEUgAAAMgAAACFCAYAAAAenrcsAAAEJ0lEQVR4Xu3bz2vbdRzH8f05XmQXQal1s+YgKnasCDtMdpGyRjt30HbrimO2+6GtPydb2x10pYeh9OAcIop404NUnPiTzXamS5akaX7M9HfTvEziQfiCr1uST+H5gC+E7+ed45PvN998P3sE4H/tiZ4A8B8CAQwCAQwCAQwCAQwCAQwCAQwCAQwCAQwCAQwCAQwCAQwCAQwCAQwCAQwCAQwCAQwCAQwCAQwCAQwCAQwCAQwCAQwCAQwCAQwCAQwCAQwCAQwCAQwCAQwCAQwCAQwCAQwCAQwCAQwCAQwCAQwCAQwCAQwCAQwCAQwCAQwC2UWqOxVVK5XoaTQRgewSm8W8CleGlXurXxu5pegymoRAdony7z9r6fWYcoMdWvnxh+gymoRAdoWqqttbKn37Re34vPZ5OzqAJiGQwFU21lWYnVBu5h1V1taiy2gyAglc+debKrx5QPnhmMpz30eX0WQEEqj6bdR6+q6yHwzpdvwJpaeGVFkpR8fQZAQSoM3CsgpTp5SIx7R+6YCS8S7trK5Ex9ACBBKgxhOrMzGlXn5It+L7lboy2vgPBK1HIAGqVrZV+u5LZWanVLrYp/zoIZX/+C06hhYgkECVf5lT8uzR2m3Wg0r2PqD0QI/+/mkuOoYmI5DQVKuNI/P+K1qb7FHi+EEtHO9ScfRR5T+5Gp1GkxFIKGpRFL/5VIujR5W9eFKZz65pvr9TmYGntDh+QvmvP9Z2+X70W2gyAglE/bFuaqi79sP8Ya28+4zSE2NKnD6i0vh+Zc/3R8fRIgQSitoVJHdjRn8O9uju2Au6d/pw7bbqoBIXjmnjXiI6jRYhkIDsbG40Xi3Z2drSX8PPKf3qXhW/uh4dQwsRSCA28zkVJk8qN9an7LUJ5c8dVvLySOORL9qHQAJx/+acMsOdWhro0Hz8aZXG9ilbu71CexFIIJZn3tbySLdu9caUO3NI8y89qfXFhegYWoxAApH58ILSJ/bq9pF9Kp7vVPLFmHZ4vb3tCCQAlfU1LU2PK3G2T6n3BpU69piy12dU3yiF9iKQADT2fLzRreVTj2uh9xEVRjqUn52OjqENCCQA9Z2CycnXdCfeqTtDz2vpxjR7PwJBIIH49yryrPLDXewcDAiBBKJ+FUl/dE6ZqyOqrK5Gl9EmBAIYBAIYBAIYBAIYBAIYBAIYBAIYBAIYBAIYBAIYBAIYBAIYBAIYBAIYBAIYBAIYBAIYBAIYBAIYBAIYBAIYBAIYBAIYBAIYBAIYBAIYBAIYBAIYBAIYBAIYBAIYBAIYBAIYBAIYBAIYBAIYBAIYBAIYBAIYBAIYBAIYBAIYBAIYBAIYBAIYBAIYBAIYBAIYBAIYBAIYBAIYBAIYBAIYBAIYBAIYBAIYBAIYBAIYBAIYBAIYBAIYBAIYBAIYBAIYBAIY/wAtS6CUBDBWVwAAAABJRU5ErkJggg==' width='200' height='133' class=\"itemThumbnail\">\n",
       "                       </a>\n",
       "                    </div>\n",
       "\n",
       "                    <div class=\"item_right\"     style=\"float: none; width: auto; overflow: hidden;\">\n",
       "                        <a href='https://governmentofbc.maps.arcgis.com/home/item.html?id=639540fc1e7c40c5a2954cdc3b4185da' target='_blank'><b>PARC_L1G_Park_Asset_Data_Feature_Layer_v2_tests</b>\n",
       "                        </a>\n",
       "                        <br/>Feature Layer for the BCParks assets (test)<img src='https://governmentofbc.maps.arcgis.com/home/js/jsapi/esri/css/images/item_type_icons/featureshosted16.png' style=\"vertical-align:middle;\" width=16 height=16>Feature Layer Collection by MLABIADH.BC\n",
       "                        <br/>Last Modified: October 24, 2024\n",
       "                        <br/>0 comments, 9 views\n",
       "                    </div>\n",
       "                </div>\n",
       "                "
      ],
      "text/plain": [
       "<Item title:\"PARC_L1G_Park_Asset_Data_Feature_Layer_v2_tests\" type:Feature Layer Collection owner:MLABIADH.BC>"
      ]
     },
     "execution_count": 81,
     "metadata": {},
     "output_type": "execute_result"
    }
   ],
   "source": [
    "title= 'PARC_L1G_Park_Asset_Data_Feature_Layer_v2_tests'\n",
    "folder= '2024_PARC'\n",
    "\n",
    "gdf_test = gdf.head(100)\n",
    "print (gdf_test.shape)\n",
    "\n",
    "#LayerID: 639540fc1e7c40c5a2954cdc3b4185da\n",
    "\n",
    "publish_feature_layer(gis, gdf_test, title, folder)"
   ]
  }
 ],
 "metadata": {
  "kernelspec": {
   "display_name": "cwd_py309",
   "language": "python",
   "name": "python3"
  },
  "language_info": {
   "codemirror_mode": {
    "name": "ipython",
    "version": 3
   },
   "file_extension": ".py",
   "mimetype": "text/x-python",
   "name": "python",
   "nbconvert_exporter": "python",
   "pygments_lexer": "ipython3",
   "version": "3.9.19"
  }
 },
 "nbformat": 4,
 "nbformat_minor": 2
}
